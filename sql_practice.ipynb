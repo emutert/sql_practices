{
 "cells": [
  {
   "cell_type": "markdown",
   "metadata": {},
   "source": [
    "<h1> SQL Practice </h1>\n",
    "\n",
    "This notebook is an example of using sql in Python projects. It uses in-memory Sqlite DB for table creation, data insertion. \n",
    " \n",
    "For querying, below problem and sample data set is used.  \n",
    "<a href=\"https://www.hackerrank.com/challenges/15-days-of-learning-sql?isFullScreen=true\">15 days of learning</a>\n",
    "\n",
    "The query used for this problem includes several CTEs and windowing functions. \n",
    "\n",
    "And all retrieved data is as the expected output.\n"
   ]
  },
  {
   "cell_type": "markdown",
   "metadata": {},
   "source": [
    "<h3> Import Sqlite</h3>\n",
    "\n",
    "import of the Sqlite library and initialization of in-memory db"
   ]
  },
  {
   "cell_type": "code",
   "execution_count": 2,
   "metadata": {},
   "outputs": [],
   "source": [
    "import sqlite3 as sql\n",
    "\n",
    "\n",
    "db = sql.connect(\"file::memory:?cache=shared\", uri=True)\n"
   ]
  },
  {
   "cell_type": "markdown",
   "metadata": {},
   "source": [
    "<h3>First Table creation</h3>\n",
    "\n",
    "Hackers: The hacker_id is the id of the hacker, and name is the name of the Hacker."
   ]
  },
  {
   "cell_type": "code",
   "execution_count": 3,
   "metadata": {},
   "outputs": [
    {
     "data": {
      "text/plain": [
       "<sqlite3.Cursor at 0x7fd23d4a7840>"
      ]
     },
     "execution_count": 3,
     "metadata": {},
     "output_type": "execute_result"
    }
   ],
   "source": [
    "db.execute(\"create table Hackers (hacker_id int,name text)\")"
   ]
  },
  {
   "cell_type": "markdown",
   "metadata": {},
   "source": [
    "<h3>Sample Data insertion</h3> \n",
    "\n",
    "Data insertion to the first table"
   ]
  },
  {
   "cell_type": "code",
   "execution_count": 9,
   "metadata": {},
   "outputs": [
    {
     "data": {
      "text/plain": [
       "<sqlite3.Cursor at 0x7fd23d5eac40>"
      ]
     },
     "execution_count": 9,
     "metadata": {},
     "output_type": "execute_result"
    }
   ],
   "source": [
    "insert1 = \"\"\"\n",
    "INSERT INTO hackers VALUES\n",
    "(36396,'Frank'),\n",
    "(20703,'Angela'),\n",
    "(15758,'Rose'),\n",
    "(38289,'Patrick'),\n",
    "(44065,'Lisa'),\n",
    "(53473,'Kimberly'),\n",
    "(62529,'Bonnie'),\n",
    "(79722,'Michael')\n",
    "\"\"\"\n",
    "\n",
    "db.execute(insert1)"
   ]
  },
  {
   "cell_type": "markdown",
   "metadata": {},
   "source": [
    "<h3>Second Table Creation</h3>\n",
    "\n",
    "Submissions: The submission_date is the date of the submission, submission_id is the id of the submission, hacker_id is the id of the hacker who made the submission, and score is the score of the submission. "
   ]
  },
  {
   "cell_type": "code",
   "execution_count": 7,
   "metadata": {},
   "outputs": [
    {
     "data": {
      "text/plain": [
       "<sqlite3.Cursor at 0x7fd23d5ebb40>"
      ]
     },
     "execution_count": 7,
     "metadata": {},
     "output_type": "execute_result"
    }
   ],
   "source": [
    "db.execute('CREATE TABLE submissions (submission_date date, submission_id integer, \thacker_id integer, \tscore integer)')"
   ]
  },
  {
   "cell_type": "markdown",
   "metadata": {},
   "source": [
    "<h3>Sample Data insertion</h3>\n",
    "\n",
    "Data insertion to the second table"
   ]
  },
  {
   "cell_type": "code",
   "execution_count": 10,
   "metadata": {},
   "outputs": [
    {
     "data": {
      "text/plain": [
       "<sqlite3.Cursor at 0x7fd23d4a52c0>"
      ]
     },
     "execution_count": 10,
     "metadata": {},
     "output_type": "execute_result"
    }
   ],
   "source": [
    "insert2 = \"\"\"\n",
    "INSERT INTO submissions VALUES\n",
    "('2016-03-01',8494,20703,0),\n",
    "('2016-03-01',22403,53473,15),\n",
    "('2016-03-01',23965,79722,60),\n",
    "('2016-03-01',30173,36396,70),\n",
    "('2016-03-02',34928,20703,0),\n",
    "('2016-03-02',38740,15758,60),\n",
    "('2016-03-02',42769,79722,60),\n",
    "('2016-03-02',44364,79722,60),\n",
    "('2016-03-03',45440,20703,0),\n",
    "('2016-03-03',49050,36396,70),\n",
    "('2016-03-03',50273,79722,5),\n",
    "('2016-03-04',50344,20703,0),\n",
    "('2016-03-04',51360,44065,90),\n",
    "('2016-03-04',54404,53473,65),\n",
    "('2016-03-04',61533,79722,45),\n",
    "('2016-03-05',72852,20703,0),\n",
    "('2016-03-05',74546,38289,0),\n",
    "('2016-03-05',76487,62529,0),\n",
    "('2016-03-05',82439,36396,10),\n",
    "('2016-03-05',9006,36396,40),\n",
    "('2016-03-06',90404,20703,0)\n",
    "\"\"\"\n",
    "\n",
    "db.execute(insert2)"
   ]
  },
  {
   "cell_type": "markdown",
   "metadata": {},
   "source": [
    "<h3>Problem description :</h3>\n",
    "\n",
    "On March 01, 2016 hackers 20703, 36396, 53473, and 79722 made submissions. There are 4 unique hackers who made at least one submission each day. As each hacker made one submission, 20703 is considered to be the hacker who made maximum number of submissions on this day. The name of the hacker is Angela.\n",
    "\n",
    "On March 02, 2016 hackers 15758,20703 , and 79722 made submissions. Now 20703 and 79722 were the only ones to submit every day, so there are 2 unique hackers who made at least one submission each day. 79722 made 2 submissions, and name of the hacker is Michael.\n",
    "\n",
    "On March 03, 2016 hackers 20703, 36396, and 79722 made submissions. Now and were the only ones, so there are unique hackers who made at least one submission each day. As each hacker made one submission so\n",
    "\n",
    "is considered to be the hacker who made maximum number of submissions on this day. The name of the hacker is Angela.\n",
    "\n",
    "On March 04, 2016 hackers 20703, 44065, 53473 and 79722 made submissions. Now and only submitted each day, so there are 2 unique hackers who made at least one submission each day. As each hacker made one submission so 20703 is considered to be the hacker who made maximum number of submissions on this day. The name of the hacker is Angela.\n",
    "\n",
    "On March 05, 2016 hackers20703, 36396,38289 and 62529 made submissions. Now only 20703 submitted each day, so there is only 1 unique hacker who made at least one submission each day. 36396 made 2 submissions and name of the hacker is Frank.\n",
    "\n",
    "On March 06, 2016 only 20703 made submission, so there is only unique hacker who made at least one submission each day. 20703 made 1 submission and name of the hacker is Angela.\n"
   ]
  },
  {
   "cell_type": "code",
   "execution_count": 11,
   "metadata": {},
   "outputs": [],
   "source": [
    "q = \"\"\"\n",
    "with Daily_Subs_Count_Per_Hacker as ( /* Hackers Daily submission Counts and total uniq hackers are counted.  */\n",
    "\tselect hacker_id , submission_date , count(*) daily_sub_count, count(*) over(partition by submission_date) daily_uniq_hacker_count\n",
    "\tfrom submissions s \n",
    "\tgroup by hacker_id, submission_date)\n",
    ",Dist_Hackers_Day as ( /* Distinct Hackers and Submission Dates are selected.  */\n",
    "\tselect distinct hacker_id, submission_date \n",
    "\tfrom Daily_Subs_Count_Per_Hacker\n",
    "\twhere submission_date between '2016-03-01' and '2016-03-15'\n",
    "\torder by hacker_id, submission_date asc)\n",
    ",Dist_Days as (/*index numbres are created for each contest days */\n",
    "\tselect ud.uniq_days, row_number() over(order by ud.uniq_days)  day_number\n",
    "\tfrom (select distinct submission_date as uniq_days \n",
    "\t\t\tfrom Dist_Hackers_Day\n",
    "\t\t ) ud)\t\n",
    ",Daily_Subs_Status as ( /* Difference between Index numbers of Contest days and a hackers' submission days checked \n",
    "\t\t\t\t\t\t  if they were equal, means that daily submission has been made */\n",
    "\tselect hacker_id, submission_date,  \n",
    "\tcase \n",
    "\t\t\twhen dd.day_number  - row_number() over(partition by hacker_id   order by submission_date) = 0 \n",
    "\t\t\tthen 1 \n",
    "\t\telse 0 \n",
    "\t\tend \n",
    "\t\tdail_sub_check\n",
    "\tfrom Dist_Hackers_Day dhd,Dist_Days dd\n",
    "\twhere dhd.submission_date = dd.uniq_days)\n",
    ",Ranked as ( /* Hackers are ranked over daily submission counts  */\n",
    "\tselect dss.submission_date , dss.hacker_id, dss.dail_sub_check, dsh.daily_sub_count , dsh.daily_uniq_hacker_count,  \n",
    "\t\tdense_rank () over(partition by dss.submission_date order by dsh.daily_sub_count desc, dsh.daily_sub_count DESC ) rank,\n",
    "\t\tsum(dail_sub_check) over(partition by dss.submission_date) total_consequtive_single_hacker_count\n",
    "\tfrom Daily_Subs_Status dss, Daily_Subs_Count_Per_Hacker dsh \n",
    "\twhere dss.hacker_id = dsh.hacker_id \n",
    "\tand dss.submission_date = dsh.submission_date )\n",
    ",results as( /*For equal ranks, the min hacker_id is selected */\n",
    "\tselect r.submission_date, r.total_consequtive_single_hacker_count, min(r.hacker_id) hacker_id \n",
    "\tfrom ranked r \n",
    "\twhere rank = 1\n",
    "\tgroup by r.submission_date, r.total_consequtive_single_hacker_count\n",
    "\torder by r.submission_date)\n",
    "select r.submission_date , r.total_consequtive_single_hacker_count uniq_hacker, r.hacker_id ,h.name\n",
    "from results r, hackers h \n",
    "where r.hacker_id = h.hacker_id \n",
    "order by r.submission_date ;\n",
    "\"\"\""
   ]
  },
  {
   "cell_type": "markdown",
   "metadata": {},
   "source": [
    "<h3>Expected Output:</h3>\n",
    "\n",
    "<table>\n",
    "<tr>\n",
    "<td>2016-03-01</td><td>4</td><td>20703</td><td>Angela</td>\n",
    "</tr>\n",
    "<tr>\n",
    "<td>2016-03-02</td><td>2 <td>79722</td><td>Michael</td>\n",
    "</tr>\n",
    "<tr>\n",
    "<td>2016-03-03</td><td>2</td><td>20703</td><td>Angela</td>\n",
    "</tr>\n",
    "<tr>\n",
    "<td>2016-03-04</td><td>2<td>20703</td><td>Angela</td>\n",
    "</tr>\n",
    "<tr>\n",
    "<td>2016-03-05</td><td>1<td>36396</td><td>Frank</td>\n",
    "</tr>\n",
    "<tr>\n",
    "<td>2016-03-06</td><td>1<td>20703</td><td>Angela</td>\n",
    "</tr>\n",
    "</table>"
   ]
  },
  {
   "cell_type": "code",
   "execution_count": 12,
   "metadata": {},
   "outputs": [
    {
     "data": {
      "text/plain": [
       "[('2016-03-01', 4, 20703, 'Angela'),\n",
       " ('2016-03-02', 2, 79722, 'Michael'),\n",
       " ('2016-03-03', 2, 20703, 'Angela'),\n",
       " ('2016-03-04', 2, 20703, 'Angela'),\n",
       " ('2016-03-05', 1, 36396, 'Frank'),\n",
       " ('2016-03-06', 1, 20703, 'Angela')]"
      ]
     },
     "execution_count": 12,
     "metadata": {},
     "output_type": "execute_result"
    }
   ],
   "source": [
    "list(db.execute(q))"
   ]
  }
 ],
 "metadata": {
  "kernelspec": {
   "display_name": "Python 3.10.4 ('sql_practices-MpT2NPnG')",
   "language": "python",
   "name": "python3"
  },
  "language_info": {
   "codemirror_mode": {
    "name": "ipython",
    "version": 3
   },
   "file_extension": ".py",
   "mimetype": "text/x-python",
   "name": "python",
   "nbconvert_exporter": "python",
   "pygments_lexer": "ipython3",
   "version": "3.10.4"
  },
  "orig_nbformat": 4,
  "vscode": {
   "interpreter": {
    "hash": "b069ce698f8c88fc5a9d0b6e201fd199bf41c8425f3cc6746bcf8fd33a7af71e"
   }
  }
 },
 "nbformat": 4,
 "nbformat_minor": 2
}
