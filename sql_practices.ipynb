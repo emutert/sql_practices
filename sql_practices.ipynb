{
 "cells": [
  {
   "cell_type": "markdown",
   "metadata": {},
   "source": [
    "A sql practice by using  in-memory Sqlite database on a problem from Hackerrank.com.\n",
    "\n",
    "Problem:\n",
    "\n",
    "https://www.hackerrank.com/challenges/15-days-of-learning-sql?isFullScreen=true"
   ]
  },
  {
   "cell_type": "markdown",
   "metadata": {},
   "source": [
    "sqlite initialization and in-memory db creation"
   ]
  },
  {
   "cell_type": "code",
   "execution_count": 1,
   "metadata": {},
   "outputs": [],
   "source": [
    "import sqlite3 as sql\n",
    "\n",
    "\n",
    "db = sql.connect(\"file::memory:?cache=shared\", uri=True)\n"
   ]
  },
  {
   "cell_type": "markdown",
   "metadata": {},
   "source": [
    "First Table creation\n",
    "\n",
    "Hackers: The hacker_id is the id of the hacker, and name is the name of the Hacker."
   ]
  },
  {
   "cell_type": "code",
   "execution_count": 2,
   "metadata": {},
   "outputs": [
    {
     "data": {
      "text/plain": [
       "<sqlite3.Cursor at 0x7f116e205740>"
      ]
     },
     "execution_count": 2,
     "metadata": {},
     "output_type": "execute_result"
    }
   ],
   "source": [
    "db.execute(\"create table Hackers (hacker_id int,name text)\")"
   ]
  },
  {
   "cell_type": "markdown",
   "metadata": {},
   "source": [
    "Sample Data insertion for first table."
   ]
  },
  {
   "cell_type": "code",
   "execution_count": 3,
   "metadata": {},
   "outputs": [
    {
     "data": {
      "text/plain": [
       "<sqlite3.Cursor at 0x7f116e2058c0>"
      ]
     },
     "execution_count": 3,
     "metadata": {},
     "output_type": "execute_result"
    }
   ],
   "source": [
    "db.execute(\"INSERT INTO hackers VALUES(36396,'Frank');\")\n",
    "db.execute(\"INSERT INTO hackers VALUES(20703,'Angela');\")\n",
    "db.execute(\"INSERT INTO hackers VALUES(15758,'Rose');\")\n",
    "db.execute(\"INSERT INTO hackers VALUES(38289,'Patrick');\")\n",
    "db.execute(\"INSERT INTO hackers VALUES(44065,'Lisa');\")\n",
    "db.execute(\"INSERT INTO hackers VALUES(53473,'Kimberly');\")\n",
    "db.execute(\"INSERT INTO hackers VALUES(62529,'Bonnie');\")\n",
    "db.execute(\"INSERT INTO hackers VALUES(79722,'Michael');\")"
   ]
  },
  {
   "cell_type": "markdown",
   "metadata": {},
   "source": [
    "Second Table Creation:\n",
    "\n",
    "Submissions: The submission_date is the date of the submission, submission_id is the id of the submission, hacker_id is the id of the hacker who made the submission, and score is the score of the submission. "
   ]
  },
  {
   "cell_type": "code",
   "execution_count": 4,
   "metadata": {},
   "outputs": [
    {
     "data": {
      "text/plain": [
       "<sqlite3.Cursor at 0x7f116e205ac0>"
      ]
     },
     "execution_count": 4,
     "metadata": {},
     "output_type": "execute_result"
    }
   ],
   "source": [
    "db.execute('CREATE TABLE submissions (submission_date date, submission_id integer, \thacker_id integer, \tscore integer)')"
   ]
  },
  {
   "cell_type": "markdown",
   "metadata": {},
   "source": [
    "Sample Data insertion for Second table."
   ]
  },
  {
   "cell_type": "code",
   "execution_count": 5,
   "metadata": {},
   "outputs": [
    {
     "data": {
      "text/plain": [
       "<sqlite3.Cursor at 0x7f116e2065c0>"
      ]
     },
     "execution_count": 5,
     "metadata": {},
     "output_type": "execute_result"
    }
   ],
   "source": [
    "db.execute(\"INSERT INTO submissions VALUES('2016-03-01',8494,20703,0);\")\n",
    "db.execute(\"INSERT INTO submissions VALUES('2016-03-01',22403,53473,15);\")\n",
    "db.execute(\"INSERT INTO submissions VALUES('2016-03-01',23965,79722,60);\")\n",
    "db.execute(\"INSERT INTO submissions VALUES('2016-03-01',30173,36396,70);\")\n",
    "db.execute(\"INSERT INTO submissions VALUES('2016-03-02',34928,20703,0);\")\n",
    "db.execute(\"INSERT INTO submissions VALUES('2016-03-02',38740,15758,60);\")\n",
    "db.execute(\"INSERT INTO submissions VALUES('2016-03-02',42769,79722,60);\")\n",
    "db.execute(\"INSERT INTO submissions VALUES('2016-03-02',44364,79722,60);\")\n",
    "db.execute(\"INSERT INTO submissions VALUES('2016-03-03',45440,20703,0);\")\n",
    "db.execute(\"INSERT INTO submissions VALUES('2016-03-03',49050,36396,70);\")\n",
    "db.execute(\"INSERT INTO submissions VALUES('2016-03-03',50273,79722,5);\")\n",
    "db.execute(\"INSERT INTO submissions VALUES('2016-03-04',50344,20703,0);\")\n",
    "db.execute(\"INSERT INTO submissions VALUES('2016-03-04',51360,44065,90);\")\n",
    "db.execute(\"INSERT INTO submissions VALUES('2016-03-04',54404,53473,65);\")\n",
    "db.execute(\"INSERT INTO submissions VALUES('2016-03-04',61533,79722,45);\")\n",
    "db.execute(\"INSERT INTO submissions VALUES('2016-03-05',72852,20703,0);\")\n",
    "db.execute(\"INSERT INTO submissions VALUES('2016-03-05',74546,38289,0);\")\n",
    "db.execute(\"INSERT INTO submissions VALUES('2016-03-05',76487,62529,0);\")\n",
    "db.execute(\"INSERT INTO submissions VALUES('2016-03-05',82439,36396,10);\")\n",
    "db.execute(\"INSERT INTO submissions VALUES('2016-03-05',9006,36396,40);\")\n",
    "db.execute(\"INSERT INTO submissions VALUES('2016-03-06',90404,20703,0);\")"
   ]
  },
  {
   "cell_type": "markdown",
   "metadata": {},
   "source": [
    "Problem description :\n",
    "\n",
    "On March 01, 2016 hackers 20703, 36396, 53473, and 79722 made submissions. There are 4 unique hackers who made at least one submission each day. As each hacker made one submission, 20703 is considered to be the hacker who made maximum number of submissions on this day. The name of the hacker is Angela.\n",
    "\n",
    "On March 02, 2016 hackers 15758,20703 , and 79722 made submissions. Now 20703 and 79722 were the only ones to submit every day, so there are 2 unique hackers who made at least one submission each day. 79722 made 2 submissions, and name of the hacker is Michael.\n",
    "\n",
    "On March 03, 2016 hackers 20703, 36396, and 79722 made submissions. Now and were the only ones, so there are unique hackers who made at least one submission each day. As each hacker made one submission so\n",
    "\n",
    "is considered to be the hacker who made maximum number of submissions on this day. The name of the hacker is Angela.\n",
    "\n",
    "On March 04, 2016 hackers 20703, 44065, 53473 and 79722 made submissions. Now and only submitted each day, so there are 2 unique hackers who made at least one submission each day. As each hacker made one submission so 20703 is considered to be the hacker who made maximum number of submissions on this day. The name of the hacker is Angela.\n",
    "\n",
    "On March 05, 2016 hackers20703, 36396,38289 and 62529 made submissions. Now only 20703 submitted each day, so there is only 1 unique hacker who made at least one submission each day. 36396 made 2 submissions and name of the hacker is Frank.\n",
    "\n",
    "On March 06, 2016 only 20703 made submission, so there is only unique hacker who made at least one submission each day. 20703 made 1 submission and name of the hacker is Angela.\n",
    "\n",
    "Sample Output:\n",
    "\n",
    "01/03/2016\t4\t20703\tAngela \n",
    "\n",
    "02/03/2016\t2\t79722\tMichael \n",
    "\n",
    "03/03/2016\t2\t20703\tAngela \n",
    "\n",
    "04/03/2016\t2\t20703\tAngela \n",
    "\n",
    "05/03/2016\t1\t36396\tFrank \n",
    "\n",
    "06/03/2016\t1\t20703\tAngela \n"
   ]
  },
  {
   "cell_type": "code",
   "execution_count": null,
   "metadata": {},
   "outputs": [],
   "source": [
    "import sqlite3 as sql\n",
    "\n",
    "\n",
    "db = sql.connect(\"file::memory:?cache=shared\", uri=True)\n"
   ]
  },
  {
   "cell_type": "code",
   "execution_count": 6,
   "metadata": {},
   "outputs": [],
   "source": [
    "q = \"\"\"\n",
    "with Daily_Subs_Count_Per_Hacker as ( /* Hackers Daily submission Counts and total uniq hackers are counted.  */\n",
    "\tselect hacker_id , submission_date , count(*) daily_sub_count, count(*) over(partition by submission_date) daily_uniq_hacker_count\n",
    "\tfrom submissions s \n",
    "\tgroup by hacker_id, submission_date)\n",
    ",Dist_Hackers_Day as ( /* Distinct Hackers and Submission Dates are selected.  */\n",
    "\tselect distinct hacker_id, submission_date \n",
    "\tfrom Daily_Subs_Count_Per_Hacker\n",
    "\twhere submission_date between '2016-03-01' and '2016-03-15'\n",
    "\torder by hacker_id, submission_date asc)\n",
    ",Dist_Days as (/*index numbres are created for each contest days */\n",
    "\tselect ud.uniq_days, row_number() over(order by ud.uniq_days)  day_number\n",
    "\tfrom (select distinct submission_date as uniq_days \n",
    "\t\t\tfrom Dist_Hackers_Day\n",
    "\t\t ) ud)\t\n",
    ",Daily_Subs_Status as ( /* Difference between Index numbers of Contest days and a hackers' submission days checked \n",
    "\t\t\t\t\t\t  if they were equal, means that daily submission has been made */\n",
    "\tselect hacker_id, submission_date,  \n",
    "\tcase \n",
    "\t\t\twhen dd.day_number  - row_number() over(partition by hacker_id   order by submission_date) = 0 \n",
    "\t\t\tthen 1 \n",
    "\t\telse 0 \n",
    "\t\tend \n",
    "\t\tdail_sub_check\n",
    "\tfrom Dist_Hackers_Day dhd,Dist_Days dd\n",
    "\twhere dhd.submission_date = dd.uniq_days)\n",
    ",Ranked as ( /* Hackers are ranked over daily submission counts  */\n",
    "\tselect dss.submission_date , dss.hacker_id, dss.dail_sub_check, dsh.daily_sub_count , dsh.daily_uniq_hacker_count,  \n",
    "\t\tdense_rank () over(partition by dss.submission_date order by dsh.daily_sub_count desc, dsh.daily_sub_count DESC ) rank,\n",
    "\t\tsum(dail_sub_check) over(partition by dss.submission_date) total_consequtive_single_hacker_count\n",
    "\tfrom Daily_Subs_Status dss, Daily_Subs_Count_Per_Hacker dsh \n",
    "\twhere dss.hacker_id = dsh.hacker_id \n",
    "\tand dss.submission_date = dsh.submission_date )\n",
    ",results as( /*For equal ranks, the min hacker_id is selected */\n",
    "\tselect r.submission_date, r.total_consequtive_single_hacker_count, min(r.hacker_id) hacker_id \n",
    "\tfrom ranked r \n",
    "\twhere rank = 1\n",
    "\tgroup by r.submission_date, r.total_consequtive_single_hacker_count\n",
    "\torder by r.submission_date)\n",
    "select r.submission_date , r.total_consequtive_single_hacker_count uniq_hacker, r.hacker_id ,h.name\n",
    "from results r, hackers h \n",
    "where r.hacker_id = h.hacker_id \n",
    "order by r.submission_date ;\n",
    "\"\"\""
   ]
  },
  {
   "cell_type": "markdown",
   "metadata": {},
   "source": [
    "Sample Output:\n",
    "\n",
    "2016-03-01 4 20703 Angela\n",
    "\n",
    "2016-03-02 2 79722 Michael\n",
    "\n",
    "2016-03-03 2 20703 Angela\n",
    "\n",
    "2016-03-04 2 20703 Angela\n",
    "\n",
    "2016-03-05 1 36396 Frank\n",
    "\n",
    "2016-03-06 1 20703 Angela"
   ]
  },
  {
   "cell_type": "code",
   "execution_count": 7,
   "metadata": {},
   "outputs": [
    {
     "data": {
      "text/plain": [
       "[('2016-03-01', 4, 20703, 'Angela'),\n",
       " ('2016-03-02', 2, 79722, 'Michael'),\n",
       " ('2016-03-03', 2, 20703, 'Angela'),\n",
       " ('2016-03-04', 2, 20703, 'Angela'),\n",
       " ('2016-03-05', 1, 36396, 'Frank'),\n",
       " ('2016-03-06', 1, 20703, 'Angela')]"
      ]
     },
     "execution_count": 7,
     "metadata": {},
     "output_type": "execute_result"
    }
   ],
   "source": [
    "list(db.execute(q))"
   ]
  }
 ],
 "metadata": {
  "interpreter": {
   "hash": "916dbcbb3f70747c44a77c7bcd40155683ae19c65e1c03b4aa3499c5328201f1"
  },
  "kernelspec": {
   "display_name": "Python 3.10.4 64-bit",
   "language": "python",
   "name": "python3"
  },
  "language_info": {
   "codemirror_mode": {
    "name": "ipython",
    "version": 3
   },
   "file_extension": ".py",
   "mimetype": "text/x-python",
   "name": "python",
   "nbconvert_exporter": "python",
   "pygments_lexer": "ipython3",
   "version": "3.10.4"
  },
  "orig_nbformat": 4
 },
 "nbformat": 4,
 "nbformat_minor": 2
}
